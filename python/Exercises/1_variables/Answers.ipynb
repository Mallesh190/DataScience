{
 "cells": [
  {
   "cell_type": "markdown",
   "id": "45012b7e-c849-4897-8746-7c0496270f87",
   "metadata": {},
   "source": [
    "# Python Variables :"
   ]
  },
  {
   "cell_type": "markdown",
   "id": "f9ce836c-19cc-4765-8d4c-b1543a7834b4",
   "metadata": {},
   "source": [
    "## 1 . Create a variable called break and assign it a value 5. See what happens and find out the reason behind the behavior that you see.\n"
   ]
  },
  {
   "cell_type": "code",
   "execution_count": 8,
   "id": "3ba3b640-ee41-4041-a510-a2c87c0f6f78",
   "metadata": {},
   "outputs": [
    {
     "ename": "SyntaxError",
     "evalue": "invalid syntax (3917874094.py, line 1)",
     "output_type": "error",
     "traceback": [
      "\u001b[1;36m  Cell \u001b[1;32mIn[8], line 1\u001b[1;36m\u001b[0m\n\u001b[1;33m    break =5\u001b[0m\n\u001b[1;37m          ^\u001b[0m\n\u001b[1;31mSyntaxError\u001b[0m\u001b[1;31m:\u001b[0m invalid syntax\n"
     ]
    }
   ],
   "source": [
    "break =5"
   ]
  },
  {
   "cell_type": "markdown",
   "id": "0b2029cd-0a03-42dd-8b8b-27d0442b647f",
   "metadata": {},
   "source": [
    "- break is a keyword .So, that showing Syntax error"
   ]
  },
  {
   "cell_type": "markdown",
   "id": "ceaf6eae-41e7-4114-9069-2118e4e38d35",
   "metadata": {},
   "source": [
    "## 2 . Create two variables. One to store your birth year and another one to store current year. Now calculate your age using these two variables"
   ]
  },
  {
   "cell_type": "code",
   "execution_count": 17,
   "id": "30b62f41-0753-4f03-b81f-165b00a6bdf3",
   "metadata": {},
   "outputs": [
    {
     "name": "stdout",
     "output_type": "stream",
     "text": [
      "You Age is 20\n"
     ]
    }
   ],
   "source": [
    "birth_year = 2004\n",
    "current_year = 2024\n",
    "age = current_year - birth_year\n",
    "print(f\"You Age is {age}\")"
   ]
  },
  {
   "cell_type": "markdown",
   "id": "6c89599b-e444-4fa1-98a5-daaae0092f74",
   "metadata": {},
   "source": [
    "## 3 . Store your first, middle and last name in three different variables and then print your full name using these variables"
   ]
  },
  {
   "cell_type": "code",
   "execution_count": 20,
   "id": "8b6aa50a-2be7-4d23-bf11-e24419d792e3",
   "metadata": {},
   "outputs": [
    {
     "name": "stdout",
     "output_type": "stream",
     "text": [
      "Your Full Name : Chittegonda Mallesh Yadav\n"
     ]
    }
   ],
   "source": [
    "first_name = \"Chittegonda\"\n",
    "middle_name = \"Mallesh\"\n",
    "last_name = \"Yadav\"\n",
    "print(\"Your Full Name : \" + first_name + \" \" + middle_name + \" \" + last_name)"
   ]
  },
  {
   "cell_type": "markdown",
   "id": "5e43ef2a-1893-4c2d-b3c7-ac8dbb9523fd",
   "metadata": {},
   "source": [
    "## 4 . Answer which of these are invalid variable names:\n",
    "- _nation \n",
    "- 1record\n",
    "-  record1\n",
    "-  record_one\n",
    "-  record-one\n",
    "-  record^one\n",
    "-  continue"
   ]
  },
  {
   "cell_type": "markdown",
   "id": "43c00b99-3f70-4244-b6a3-16c522c472d7",
   "metadata": {},
   "source": [
    "# invalid variables :\n",
    "- 1record\n",
    "- record-one\n",
    "- record^one\n",
    "- continue"
   ]
  },
  {
   "cell_type": "code",
   "execution_count": null,
   "id": "ab647af4-ff45-4af9-a0a1-f7c5a56ffd78",
   "metadata": {},
   "outputs": [],
   "source": []
  }
 ],
 "metadata": {
  "kernelspec": {
   "display_name": "Python 3 (ipykernel)",
   "language": "python",
   "name": "python3"
  },
  "language_info": {
   "codemirror_mode": {
    "name": "ipython",
    "version": 3
   },
   "file_extension": ".py",
   "mimetype": "text/x-python",
   "name": "python",
   "nbconvert_exporter": "python",
   "pygments_lexer": "ipython3",
   "version": "3.9.12"
  }
 },
 "nbformat": 4,
 "nbformat_minor": 5
}
